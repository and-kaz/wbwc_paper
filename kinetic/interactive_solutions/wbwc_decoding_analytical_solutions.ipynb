{
 "cells": [
  {
   "cell_type": "markdown",
   "metadata": {},
   "source": [
    "# wobble $\\longleftrightarrow$ WC reaction in codon-anticodon decoding "
   ]
  },
  {
   "cell_type": "markdown",
   "metadata": {},
   "source": [
    "This notebook interactively solves the equations for the error rate. See the accompanying preprint/publication for derivations and detailed explanation. Nomenclature of the decoding states and rate constants is taken from [Pavlov and Ehrenberg, 2018] (doi:10.1146/annurev-biophys-060414-034148)"
   ]
  },
  {
   "cell_type": "markdown",
   "metadata": {},
   "source": [
    "In the classical Michaelis-Menten formulation, the error rate in decoding in translation:"
   ]
  },
  {
   "cell_type": "markdown",
   "metadata": {},
   "source": [
    "\\begin{equation}\n",
    "\\eta_0 = \\frac{R^{nc}}{ R^{c}} = \\frac{(k_{cat}/K_{m})^{nc}}{(k_{cat}/K_{m})^{c}} = \\frac{k_{4}^{nc}[C_{4}^{nc}]}{k_{4}^{c}[C_{4}^{c}]}\n",
    "\\end{equation}"
   ]
  },
  {
   "cell_type": "markdown",
   "metadata": {},
   "source": [
    "where $R^{i}$ is the rate of decoding, $k_{cat}^{i}$ is the catalytic rate constant, $K_m^{i}$ is the Michaelis-Menten constant, $[C_{4}^{i}]$ is the steady-state concentration of C4 state, and  $k_{4}^{i}$ is the rate constant of GTPase activation, for $i = c$ (cognate), $nc$ (near-cognate)"
   ]
  },
  {
   "cell_type": "markdown",
   "metadata": {},
   "source": [
    "In our model, the error rate induced by the wb-WC reaction:"
   ]
  },
  {
   "cell_type": "markdown",
   "metadata": {},
   "source": [
    "\\begin{equation}\n",
    "\\eta  = \\frac{[C_{4}^{nc}]}{[C_{4}^{c}]}(P_{wc}^{eq} + (P_{wc}^{C3} \\frac{q_{4}^{nc}}{k_{4}^{c} + q_{4}^{c}} - P_{wc}^{eq}) \\exp{(-\\frac{k_f + k_r}{k_{4}^{c} + q_{4}^{c}})})\n",
    "\\end{equation}"
   ]
  },
  {
   "cell_type": "markdown",
   "metadata": {},
   "source": [
    "where $k_f$, $k_r$ and $P_{wc}^{eq}$ are the forward and reverse rate constants of the wb-WC reaction in $C4$, and the corresponding equilbrium WC (product) population, respectively; $P_{wc}^{C3}$ -- equilibrium WC population in state $C3$. "
   ]
  },
  {
   "cell_type": "markdown",
   "metadata": {},
   "source": [
    "In the plot below, you can interactively change these three parameters (in terms of free energy differences)."
   ]
  },
  {
   "cell_type": "code",
   "execution_count": 4,
   "metadata": {},
   "outputs": [
    {
     "ename": "AttributeError",
     "evalue": "module 'scipy' has no attribute 'constants'",
     "output_type": "error",
     "traceback": [
      "\u001b[0;31m---------------------------------------------------------------------------\u001b[0m",
      "\u001b[0;31mAttributeError\u001b[0m                            Traceback (most recent call last)",
      "\u001b[0;32m<ipython-input-4-69864a3f604f>\u001b[0m in \u001b[0;36m<module>\u001b[0;34m\u001b[0m\n\u001b[1;32m     13\u001b[0m \u001b[0mRconst\u001b[0m \u001b[0;34m=\u001b[0m \u001b[0;36m1.9858775e-3\u001b[0m             \u001b[0;31m## [kcal / (mol * K)]\u001b[0m\u001b[0;34m\u001b[0m\u001b[0;34m\u001b[0m\u001b[0m\n\u001b[1;32m     14\u001b[0m \u001b[0mRT\u001b[0m \u001b[0;34m=\u001b[0m \u001b[0mtemperature\u001b[0m \u001b[0;34m*\u001b[0m \u001b[0mRconst\u001b[0m\u001b[0;34m\u001b[0m\u001b[0;34m\u001b[0m\u001b[0m\n\u001b[0;32m---> 15\u001b[0;31m \u001b[0mkbc\u001b[0m \u001b[0;34m=\u001b[0m \u001b[0mscipy\u001b[0m\u001b[0;34m.\u001b[0m\u001b[0mconstants\u001b[0m\u001b[0;34m.\u001b[0m\u001b[0mk\u001b[0m                      \u001b[0;31m## Boltzmann constant\u001b[0m\u001b[0;34m\u001b[0m\u001b[0;34m\u001b[0m\u001b[0m\n\u001b[0m\u001b[1;32m     16\u001b[0m \u001b[0mhpl\u001b[0m \u001b[0;34m=\u001b[0m \u001b[0mscipy\u001b[0m\u001b[0;34m.\u001b[0m\u001b[0mconstants\u001b[0m\u001b[0;34m.\u001b[0m\u001b[0mh\u001b[0m                      \u001b[0;31m## Planck constant\u001b[0m\u001b[0;34m\u001b[0m\u001b[0;34m\u001b[0m\u001b[0m\n\u001b[1;32m     17\u001b[0m \u001b[0;31m############################\u001b[0m\u001b[0;34m\u001b[0m\u001b[0;34m\u001b[0m\u001b[0;34m\u001b[0m\u001b[0m\n",
      "\u001b[0;31mAttributeError\u001b[0m: module 'scipy' has no attribute 'constants'"
     ]
    }
   ],
   "source": [
    "## modules\n",
    "import numpy as np\n",
    "import matplotlib\n",
    "import ipympl\n",
    "import matplotlib.pyplot as plt\n",
    "import ipywidgets as widgets\n",
    "%matplotlib widget\n",
    "############################\n",
    "### GLOBAL CONSTANTS #######\n",
    "############################\n",
    "temperature = 298.0               ## [K]\n",
    "Rconst = 1.9858775e-3             ## [kcal / (mol * K)]\n",
    "RT = temperature * Rconst\n",
    "kbc = 1.38064852e-23                     ## Boltzmann constant (scipy had some problems in Binder, so here is manual entry)\n",
    "hpl = 6.62607004e-34                     ## Planck constant\n",
    "############################\n",
    "### DECODING CONSTANTS #####\n",
    "############################\n",
    "## all but k2 and q3c/nc are from Rodnina 2017 (http://dx.doi.org/10.1098/rstb.2016.0182)\n",
    "## k2 and q3c/nc : Ehrenberg 2018 (10.1146/annurev-biophys-060414-034148)\n",
    "all_kfs = {\n",
    "    'k1': 1.4e8,\n",
    "    'q2': 85,\n",
    "    'k2': 7.2e2,\n",
    "    'q3c': 2.5e1,\n",
    "    'q3nc': 3.9e3,\n",
    "    'k3': 180,\n",
    "    'q4c': 0.2,\n",
    "    'q4nc': 140,\n",
    "    'k4c': 190,\n",
    "    'k4nc': 0.6,\n",
    "    'k4wb': 0\n",
    "    }\n",
    "############################\n",
    "###      FUNCTIONS     #####\n",
    "############################\n",
    "def calc_kfkr(dg, ddg):\n",
    "    \"\"\" calculates rate constants from dG and ddG\"\"\"\n",
    "    kf = (kbc * temperature/hpl) * np.exp(-ddg/(RT))\n",
    "    kr = (kbc * temperature/hpl) * np.exp(-(ddg - dg)/(RT))\n",
    "    return kf, kr\n",
    "###########\n",
    "def calc_pwc_t(kf, kr, t, wc0 = 0):\n",
    "    \"\"\" equation for product concentration \n",
    "    in a first-order reversible reaction\"\"\"\n",
    "    wceq = (kf/kr) / (kf/kr + 1)\n",
    "    pwc = wceq + (wc0 - wceq) * np.exp(-(kf + kr) * t)\n",
    "    return pwc  \n",
    "###########\n",
    "def calc_pwc_eq(kf, kr):\n",
    "    \"\"\" calculates equlibrium population of the product\"\"\"\n",
    "    wceq = (kf/kr) / (kf/kr + 1)\n",
    "    return wceq\n",
    "############\n",
    "############\n",
    "def calc_eta(kdict0, kfkr, c3_corr = 'yes', c3_params = [3.4, 6], change = 'none'):\n",
    "    \"\"\" calculates error rate from the equations in the notebook\n",
    "    \n",
    "    Arguments:\n",
    "    kdict0: dictionary with decoding rate constants;\n",
    "    kfkr: forward and reverse rate constants of the wb-WC reaction in C4 [k_f, k_r]; for a classical system, type any string\n",
    "    \n",
    "    Parameters:\n",
    "    c3_corr: whether C3 population is included in the error rate;\n",
    "    c3_params: [dG_C3,ddG_c3] of the wb-WC reaction in C3;\n",
    "    change: if not str, expects 2D list [[k_i, value], [k_j, value], ..., [k_n, value]]\n",
    "    \n",
    "    Returns:\n",
    "    eta: error rate\n",
    "    \n",
    "    If both k4c and k4nc are supplied, the function calculates the classical error tate eta0;\n",
    "    if not, k4nc is rescaled to introduce Pwc\n",
    "    \n",
    "    \"\"\"\n",
    "    kdict = kdict0.copy()   \n",
    "    ## change rates\n",
    "    if type(change) != str:\n",
    "        for i in change:\n",
    "            kdict[i[0]] = i[1]\n",
    "    ##########\n",
    "    tau  = 1/(kdict['k4c'] + kdict['q4c'])    ### residence time\n",
    "    ##########\n",
    "    if type(kfkr) != str:\n",
    "        if c3_corr == 'no':\n",
    "            pwc_c3_part = 0\n",
    "            pwc = calc_pwc_t(kfkr[0], kfkr[1], tau, wc0 = 0)\n",
    "        else:\n",
    "            c3_kfkr = calc_kfkr(c3_params[0], c3_params[1])\n",
    "            pwc_c3_part = calc_pwc_eq(c3_kfkr[0], c3_kfkr[1]) * (kdict['q4nc']) / (kdict['q4c'] + kdict['k4c'])\n",
    "            pwc = calc_pwc_t(kfkr[0], kfkr[1], tau, wc0 = pwc_c3_part)\n",
    "        ### must substitute k4_nc = k4_c * pwc\n",
    "        if ('k4nc' not in [i[0] for i in change]):\n",
    "            kdict['k4nc'] = kdict['k4c'] * pwc\n",
    "    #######\n",
    "    ## the rates are calculated from discard paremeters ( Pavlov and Ehrenberg, 2018 (10.1146/annurev-biophys-060414-034148))\n",
    "    a2c, a2nc = (kdict['q2'] / kdict['k2']), (kdict['q2'] / kdict['k2'])\n",
    "    a3c, a3nc = (kdict['q3c'] / kdict['k3']), (kdict['q3nc'] / kdict['k3'])\n",
    "    a4c, a4nc = (kdict['q4c'] / kdict['k4c']), (kdict['q4nc'] / kdict['k4nc'])\n",
    "    ####\n",
    "    rate_c = kdict['k1'] / (1 + a2c * (1 + a3c * (1 + a4c)))\n",
    "    rate_nc = kdict['k1'] / (1 + a2nc * (1 + a3nc * (1 + a4nc)))\n",
    "    ###\n",
    "    eta = rate_nc / rate_c                          ## fow wb-WC, already includes Pwc, as k4_nc was rescaled; for classical, pwc = k4nc/k4c\n",
    "    ##\n",
    "    return eta\n",
    "############################\n",
    "###      PLOTTING      #####\n",
    "############################\n",
    "#plt.style.use('seaborn-notebook')\n",
    "k_range = np.logspace(-5, 6, 100)\n",
    "eta0_k, eta0_q = [], []\n",
    "q4_coeff = all_kfs['q4nc']/all_kfs['q4c'] ## \n",
    "###\n",
    "\n",
    "### classical error rate\n",
    "for i in k_range:\n",
    "    eta0_k.append(calc_eta(all_kfs, 'class', change = [['k4c', i], ['k4nc', i * all_kfs['k4nc']/all_kfs['k4c']]]))\n",
    "    eta0_q.append(calc_eta(all_kfs, 'class', change = [['q4c', i], ['q4nc', i * q4_coeff]]))\n",
    "#############\n",
    "#############\n",
    "## FIGURE ###\n",
    "#############\n",
    "fig = plt.figure(1,figsize=(9, 4))\n",
    "ax1, ax2 = fig.add_subplot(1,2,1), fig.add_subplot(1,2,2)\n",
    "for ax in ax1,ax2:\n",
    "    ax.set_yscale('log')\n",
    "    ax.set_xscale('log')\n",
    "    ax.grid(alpha = 0.3, ls = 'dashed')\n",
    "    ax.set_ylim(1e-8, 1)\n",
    "    ax.set_xlim(k_range[0], k_range[-1])\n",
    "    \n",
    "###\n",
    "ax1.set_ylabel(r'$\\eta$',fontsize=11, labelpad=1.3)\n",
    "##\n",
    "ax1.set_xlabel('$k_4^{c}, s^{-1}$',fontsize=11, labelpad=1.3)\n",
    "ax2.set_xlabel('$q_4^{c}, s^{-1}$',fontsize=11, labelpad=1.3)\n",
    "ax2.yaxis.set_ticks_position('right')\n",
    "## q4nc axis\n",
    "ax3 = ax2.twiny()\n",
    "# #ax3.set_axis_off()\n",
    "ax3.set_xscale('log')\n",
    "# ax3.tick_params(pad=-1.2)\n",
    "ax3.set_xlabel('$q_4^{nc}, s^{-1}$',fontsize=11, labelpad=8.3)\n",
    "ax3.set_xlim(k_range[0]*q4_coeff, k_range[-1]*q4_coeff)\n",
    "# ax3.set_xlim(q4_range[0]*q4nc0_coeff, q4_range[-1]*q4nc0_coeff)\n",
    "ax3.axvline(all_kfs['q4nc'], ls = 'dashed', lw = 1.0, color = 'gray', alpha = 0.8)\n",
    "##\n",
    "ax1.plot(k_range, eta0_k, color = 'gray', zorder = 100, lw = 3.5, ls = 'solid', alpha = 1.0, label = r'$\\eta _0$')\n",
    "ax2.plot(k_range, eta0_q, color = 'gray', zorder = 100, lw = 3.5, ls = 'solid', alpha = 1.0, label = r'$\\eta _0$')\n",
    "##\n",
    "ax1.axvline(all_kfs['k4c'], ls = 'dashed', lw = 1.0, color = 'gray', alpha = 0.8)\n",
    "ax2.axvline(all_kfs['q4c'], ls = 'dashed', lw = 1.0, color = 'gray', alpha = 0.8)\n",
    "##\n",
    "#plt.legend(fontsize = 6)\n",
    "plt.subplots_adjust(left=0.08,right=0.95,bottom=0.14,top=0.85,wspace=0.02,hspace=0.27)\n",
    "###########################\n",
    "## INTERACTIVE REACTION ###\n",
    "###########################\n",
    "def plot_sel_rates(sel_dG, sel_ddG, C3_dG):\n",
    "    sel_rates = calc_kfkr(sel_dG, sel_ddG)\n",
    "    eta_k, eta_q = [], []\n",
    "    ## remove the interactive line from the plot\n",
    "    while len(ax1.lines) > 2:\n",
    "        ax1.lines[-1].remove()\n",
    "        ax2.lines[-1].remove()\n",
    "    ###\n",
    "    for i in k_range:\n",
    "        eta_k.append(calc_eta(all_kfs, sel_rates, c3_params = [C3_dG, 6], change = [['k4c', i]]))\n",
    "        eta_q.append(calc_eta(all_kfs, sel_rates, c3_params = [C3_dG, 6], change = [['q4c', i], ['q4nc', i * q4_coeff]]))\n",
    "    ###\n",
    "    k_curve = ax1.plot(k_range, eta_k, color = 'black', zorder = 105, lw = 1.8, ls = 'solid')\n",
    "    q_curve = ax2.plot(k_range, eta_q, color = 'black', zorder = 105, lw = 1.8, ls = 'solid')\n",
    "###########\n",
    "widgets.interact(plot_sel_rates, \n",
    "                 sel_dG = widgets.FloatSlider(min = -3, max = 8, step = 0.25, value = -1.0, description = '$\\Delta G_{C4}$, kcal/mol'), \n",
    "                 sel_ddG = widgets.FloatSlider(min = 4, max = 21, step = 0.25, value = 17.8, description = '$\\Delta G_{TS}$, kcal/mol'), \n",
    "                 C3_dG = widgets.FloatSlider(min = 0, max = 10, step = 0.25, value = 3.4, description = '$\\Delta G_{C3}$, kcal/mol'))\n"
   ]
  },
  {
   "cell_type": "code",
   "execution_count": 6,
   "metadata": {},
   "outputs": [
    {
     "data": {
      "application/javascript": [
       "MathJax.Hub.Config({\n",
       "    TeX: { equationNumbers: { autoNumber: \"AMS\" } }\n",
       "});\n"
      ],
      "text/plain": [
       "<IPython.core.display.Javascript object>"
      ]
     },
     "metadata": {},
     "output_type": "display_data"
    }
   ],
   "source": [
    "%%javascript\n",
    "MathJax.Hub.Config({\n",
    "    TeX: { equationNumbers: { autoNumber: \"AMS\" } }\n",
    "});"
   ]
  },
  {
   "cell_type": "code",
   "execution_count": 5,
   "metadata": {},
   "outputs": [
    {
     "data": {
      "application/javascript": [
       "MathJax.Hub.Queue(\n",
       "  [\"resetEquationNumbers\", MathJax.InputJax.TeX],\n",
       "  [\"PreProcess\", MathJax.Hub],\n",
       "  [\"Reprocess\", MathJax.Hub]\n",
       ");\n"
      ],
      "text/plain": [
       "<IPython.core.display.Javascript object>"
      ]
     },
     "metadata": {},
     "output_type": "display_data"
    }
   ],
   "source": [
    "%%javascript\n",
    "MathJax.Hub.Queue(\n",
    "  [\"resetEquationNumbers\", MathJax.InputJax.TeX],\n",
    "  [\"PreProcess\", MathJax.Hub],\n",
    "  [\"Reprocess\", MathJax.Hub]\n",
    ");\n"
   ]
  },
  {
   "cell_type": "code",
   "execution_count": null,
   "metadata": {},
   "outputs": [],
   "source": []
  }
 ],
 "metadata": {
  "kernelspec": {
   "display_name": "Python 3",
   "language": "python",
   "name": "python3"
  },
  "language_info": {
   "codemirror_mode": {
    "name": "ipython",
    "version": 3
   },
   "file_extension": ".py",
   "mimetype": "text/x-python",
   "name": "python",
   "nbconvert_exporter": "python",
   "pygments_lexer": "ipython3",
   "version": "3.7.3"
  }
 },
 "nbformat": 4,
 "nbformat_minor": 4
}
